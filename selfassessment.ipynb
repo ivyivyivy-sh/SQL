{
 "cells": [
  {
   "cell_type": "markdown",
   "metadata": {},
   "source": [
    "<h3>Self-Assessment</h3>\n",
    "\n",
    "1. Challenges Faced and How I Handled Them\n",
    "\n",
    "My main challenge was setting up SQL Server Management Studio. I resolved this by following instructional videos and online resources. Another difficulty was understanding complex database server concepts, which I tackled by studying materials from different perspectives. Despite these challenges, I found the practical assignments engaging and rewarding.\n",
    "\n",
    "2. Grade I Deserve and Why\n",
    "\n",
    "I faced technical issues accessing LinkedIn Learning, causing some assignment delays. While this might slightly affect my grade, I still expect a good result due to consistent effort and timely completion of most work. I welcome tutor feedback to improve further.\n",
    "\n",
    "3. Tips I Would Give Myself at the Beginning of the Course\n",
    "\n",
    "I’d advise myself to focus more on hands-on practice. While videos were helpful, experimenting with the system and exploring its features would have deepened my understanding earlier.\n"
   ]
  }
 ],
 "metadata": {
  "language_info": {
   "name": "python"
  }
 },
 "nbformat": 4,
 "nbformat_minor": 2
}
