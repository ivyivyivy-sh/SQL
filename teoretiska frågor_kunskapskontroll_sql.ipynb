{
 "cells": [
  {
   "cell_type": "markdown",
   "id": "333e0fba",
   "metadata": {},
   "source": [
    "Teoretiska Frågor"
   ]
  },
  {
   "cell_type": "markdown",
   "id": "1cc69434",
   "metadata": {},
   "source": [
    "1. Beskriv kort hur en relationsdatabas fungerar.\n",
    "\n",
    "En relationsdatabas organiserar data i tabeller med rader och kolumner. Varje tabell representerar en specifik enhet (t.ex. kunder eller produkter), och relationer mellan tabeller skapas med hjälp av primära och främmande nycklar. Man måste specificera datatypen för varje kolumn. Relationsdatabaser använder ofta SQL för att hantera och interagera med datan."
   ]
  },
  {
   "cell_type": "markdown",
   "id": "48770e38",
   "metadata": {},
   "source": [
    "2. Vad menas med “CRUD”-flödet?\n",
    "\n",
    "CRUD är en akronym för Create, Read, Update, Delete, som representerar de fyra grundläggande operationerna i en relationell databas:\n",
    "\n",
    " -Create: Lägga till ny data i databasen.\n",
    " -Read: Läsa ut data från databasen.\n",
    " -Update: Uppdatera existerande data i databasen.\n",
    " -Delete: Ta bort rader från databasen."
   ]
  },
  {
   "cell_type": "markdown",
   "id": "f7576da9",
   "metadata": {},
   "source": [
    "3. Beskriv kort vad en “left join” och en “inner join” är. Varför använder man det?\n",
    "\n",
    "JOIN-clause användas för att kombinera kolumner från en eller flera tabeller toll en ny tabell.\n",
    "\n",
    "LEFT JOIN returnerar alla rader från den vänstra tabellen (A) och matchande rader från den högra tabellen (B). Om det inte finns någon matchning i den högra tabellen, visas NULL för kolumnerna från den högra tabellen.\n",
    "\n",
    "Man använder LEFT JOIN när man vill inkludera alla data från en huvudtabell, även om det saknas kopplad data i den andra tabellen.\n",
    "\n",
    "INNER JOIN returnerar endast de rader där det finns en matchning mellan tabellerna (båda A och B).\n",
    "Man använder INNER JOIN när man bara vill ha data som har en relation mellan tabellerna."
   ]
  },
  {
   "cell_type": "markdown",
   "id": "a6e2c455",
   "metadata": {},
   "source": [
    "4. Beskriv kort vad indexering i SQL innebär.\n",
    "\n",
    "Indexering används för att hitta rader som uppfyller ett visst kriterium i en specifik kolumn.Det innebär att systemet skapar ett index baserat på en specifik kolumn eller flera kolumner. När index används kan systemet direkt hitta de rader som matchar ett visst kriterium utan att behöva gå igenom hela tabellen rad för rad, vilket gör sökningar mycket snabbare.\n",
    "\n",
    "Det finns två huvudsakliga typer av index:\n",
    "\n",
    "Klustrade index (Clustered Index): Organiserar den faktiska datan i tabellen enligt indexet. En tabell kan endast ha ett klustrat index.\n",
    "\n",
    "Icke-klustrade index (Non-Clustered Index): Innehåller en separat kopia av data som refererar till den faktiska lagrade informationen. En tabell kan ha flera icke-klustrade index.\n",
    "\n",
    "Index används för att optimera prestandan i frågor som filtrerar, sorterar eller söker efter data i tabellen."
   ]
  },
  {
   "cell_type": "markdown",
   "id": "714d09da",
   "metadata": {},
   "source": [
    "5. Beskriv kort vad en vy i SQL är.\n",
    "\n",
    "En vy (view) är en virtuell tabell vars innehåll definieras av en qurey, vilket gör data lättillgänglig i tabellformat. Den lagras inte fysiskt i databasen utan genereras dynamiskt när den används.\n",
    "\n",
    "Man skapar en vy för att förenkla komplexa qurey och ge användare åtkomst till specifika delar av data utan att exponera hela tabellen."
   ]
  },
  {
   "cell_type": "markdown",
   "id": "c8e86e34",
   "metadata": {},
   "source": [
    "6. Beskriv kort vad en lagrad procedur i SQL är.\n",
    "\n",
    "En lagrad procedur är sparad kod som kan återanvändas och hjälper till att centralisera och effektivisera kodhantering. Proceduren gör det möjligt att köra fördefinierad logik med parametrar och skapa konsekventa resultat. Den används för att minska repetitiv kod och förbättra prestanda genom att utföra logiken direkt på servern.\n"
   ]
  }
 ],
 "metadata": {
  "kernelspec": {
   "display_name": "Python 3 (ipykernel)",
   "language": "python",
   "name": "python3"
  },
  "language_info": {
   "codemirror_mode": {
    "name": "ipython",
    "version": 3
   },
   "file_extension": ".py",
   "mimetype": "text/x-python",
   "name": "python",
   "nbconvert_exporter": "python",
   "pygments_lexer": "ipython3",
   "version": "3.12.5"
  }
 },
 "nbformat": 4,
 "nbformat_minor": 5
}
